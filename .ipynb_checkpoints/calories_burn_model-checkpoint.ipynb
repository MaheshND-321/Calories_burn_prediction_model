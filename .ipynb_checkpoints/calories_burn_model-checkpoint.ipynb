{
 "cells": [
  {
   "cell_type": "markdown",
   "id": "4d505f89",
   "metadata": {},
   "source": [
    "# calories_burn_model"
   ]
  },
  {
   "cell_type": "code",
   "execution_count": 1,
   "id": "0c531cc0",
   "metadata": {},
   "outputs": [
    {
     "ename": "ModuleNotFoundError",
     "evalue": "No module named 'xgboost'",
     "output_type": "error",
     "traceback": [
      "\u001b[1;31m---------------------------------------------------------------------------\u001b[0m",
      "\u001b[1;31mModuleNotFoundError\u001b[0m                       Traceback (most recent call last)",
      "\u001b[1;32m~\\AppData\\Local\\Temp\\ipykernel_19816\\370767470.py\u001b[0m in \u001b[0;36m<module>\u001b[1;34m\u001b[0m\n\u001b[0;32m      4\u001b[0m \u001b[1;32mimport\u001b[0m \u001b[0mseaborn\u001b[0m \u001b[1;32mas\u001b[0m \u001b[0msns\u001b[0m\u001b[1;33m\u001b[0m\u001b[1;33m\u001b[0m\u001b[0m\n\u001b[0;32m      5\u001b[0m \u001b[1;32mfrom\u001b[0m \u001b[0msklearn\u001b[0m\u001b[1;33m.\u001b[0m\u001b[0mmodel_selection\u001b[0m \u001b[1;32mimport\u001b[0m \u001b[0mtrain_test_split\u001b[0m\u001b[1;33m\u001b[0m\u001b[1;33m\u001b[0m\u001b[0m\n\u001b[1;32m----> 6\u001b[1;33m \u001b[1;32mfrom\u001b[0m \u001b[0mxgboost\u001b[0m \u001b[1;32mimport\u001b[0m \u001b[0mXGBRegressor\u001b[0m\u001b[1;33m\u001b[0m\u001b[1;33m\u001b[0m\u001b[0m\n\u001b[0m\u001b[0;32m      7\u001b[0m \u001b[1;32mfrom\u001b[0m \u001b[0msklearn\u001b[0m \u001b[1;32mimport\u001b[0m \u001b[0mmetrics\u001b[0m\u001b[1;33m\u001b[0m\u001b[1;33m\u001b[0m\u001b[0m\n",
      "\u001b[1;31mModuleNotFoundError\u001b[0m: No module named 'xgboost'"
     ]
    }
   ],
   "source": [
    "import numpy as np\n",
    "import pandas as pd\n",
    "import matplotlib.pyplot as plt\n",
    "import seaborn as sns\n",
    "from sklearn.model_selection import train_test_split\n",
    "from xgboost import XGBRegressor\n",
    "from sklearn import metrics"
   ]
  },
  {
   "cell_type": "code",
   "execution_count": null,
   "id": "7833c52a",
   "metadata": {},
   "outputs": [],
   "source": [
    "!pip install xgboost"
   ]
  },
  {
   "cell_type": "code",
   "execution_count": null,
   "id": "7051b70c",
   "metadata": {},
   "outputs": [],
   "source": [
    "#Data collection and processing\n",
    "cal = pd.read_csv(r'C:\\Users\\alexa\\Downloads\\calories.csv')\n",
    "cal.head()"
   ]
  },
  {
   "cell_type": "code",
   "execution_count": null,
   "id": "96d7886c",
   "metadata": {},
   "outputs": [],
   "source": [
    "exc = pd.read_csv(r'C:\\Users\\alexa\\Downloads\\exercise.csv')\n",
    "exc.head()"
   ]
  },
  {
   "cell_type": "code",
   "execution_count": null,
   "id": "aee6de09",
   "metadata": {},
   "outputs": [],
   "source": [
    "# As we can say that the heart_rate is the parameter which shows the rate of activity(calories burnt)\n",
    "# First combine the Two Datasets\n",
    "cal_df = pd.concat([exc, cal['Calories']], axis =1)\n",
    "cal_df.head()"
   ]
  },
  {
   "cell_type": "code",
   "execution_count": null,
   "id": "06389eba",
   "metadata": {},
   "outputs": [],
   "source": [
    "# Checkingbthe number of rows and columns\n",
    "cal_df.shape"
   ]
  },
  {
   "cell_type": "code",
   "execution_count": null,
   "id": "7884465c",
   "metadata": {},
   "outputs": [],
   "source": [
    "cal_df.info()"
   ]
  },
  {
   "cell_type": "code",
   "execution_count": null,
   "id": "e57eacde",
   "metadata": {},
   "outputs": [],
   "source": [
    "# Checking for Missing Values\n",
    "cal_df.isnull().sum()"
   ]
  },
  {
   "cell_type": "code",
   "execution_count": null,
   "id": "e9f0fa31",
   "metadata": {
    "scrolled": true
   },
   "outputs": [],
   "source": [
    "# Data Analysis\n",
    "cal_df.describe()"
   ]
  },
  {
   "cell_type": "code",
   "execution_count": null,
   "id": "aff9fbbb",
   "metadata": {},
   "outputs": [],
   "source": [
    "# Data Visualization\n",
    "sns.set()\n",
    "\n",
    "# Plotting the gender column in count plot\n",
    "# sns.countplot(cal_df['Gender'])\n",
    "\n",
    "# Finding the distribution of the Age value\n",
    "sns.distplot(cal_df['Age'])"
   ]
  },
  {
   "cell_type": "code",
   "execution_count": null,
   "id": "31affa6f",
   "metadata": {},
   "outputs": [],
   "source": [
    "sns.distplot(cal_df['Height'])"
   ]
  },
  {
   "cell_type": "code",
   "execution_count": null,
   "id": "d307af04",
   "metadata": {},
   "outputs": [],
   "source": [
    "sns.distplot(cal_df['Weight'])"
   ]
  },
  {
   "cell_type": "code",
   "execution_count": null,
   "id": "65a522a5",
   "metadata": {},
   "outputs": [],
   "source": [
    "# Finding the Coreelation in the data\n",
    "correlation = cal_df.corr()"
   ]
  },
  {
   "cell_type": "code",
   "execution_count": null,
   "id": "294e2743",
   "metadata": {},
   "outputs": [],
   "source": [
    "# Constructing the heat_map to understand the coorelation\n",
    "plt.figure(figsize=(10,10))\n",
    "sns.heatmap(correlation, cbar=True, square=True, fmt='.1f', annot=True, annot_kws={'size':8}, cmap='Blues')"
   ]
  },
  {
   "cell_type": "code",
   "execution_count": null,
   "id": "bf89b81b",
   "metadata": {},
   "outputs": [],
   "source": [
    "# Converting the text data to numerical value\n",
    "cal_df.replace({'Gender':{'male':0,'female':1}}, inplace=True)"
   ]
  },
  {
   "cell_type": "code",
   "execution_count": null,
   "id": "a39ebf50",
   "metadata": {},
   "outputs": [],
   "source": [
    "cal_df.head()"
   ]
  },
  {
   "cell_type": "code",
   "execution_count": null,
   "id": "a1d3fc02",
   "metadata": {},
   "outputs": [],
   "source": [
    "# Separtainhg the features and target values\n",
    "x = cal_df.drop(columns=['User_ID','Calories'])\n",
    "y = cal_df['Calories']\n",
    "\n",
    "print(x)\n",
    "print(y)"
   ]
  },
  {
   "cell_type": "code",
   "execution_count": null,
   "id": "9ad6eaf6",
   "metadata": {},
   "outputs": [],
   "source": [
    "# Splitting the data into test and training data\n",
    "x_train, x_test, y_train ,y_test = train_test_split(x, y, test_size=0.2, random_state=2)\n",
    "print(x.shape, x_train.shape, x_test.shape)"
   ]
  },
  {
   "cell_type": "code",
   "execution_count": null,
   "id": "3fc83d26",
   "metadata": {},
   "outputs": [],
   "source": [
    "# XGBoost Regresssor\n",
    "# Loading the model\n",
    "model = XGBRegressor()"
   ]
  },
  {
   "cell_type": "code",
   "execution_count": null,
   "id": "e607d3ca",
   "metadata": {
    "scrolled": true
   },
   "outputs": [],
   "source": [
    "# Traing the Data\n",
    "model.fit(x_train, y_train)  #Learning the pattern between the x_train and y_train"
   ]
  },
  {
   "cell_type": "code",
   "execution_count": null,
   "id": "86dc4a94",
   "metadata": {},
   "outputs": [],
   "source": [
    "# Prediction on the test Data\n",
    "train_data_prediction = model.predict(x_train)\n",
    "print(train_data_prediction)\n",
    "# Finding the Mean Absolute Value Error\n",
    "error1= metrics.mean_absolute_error(y_train, train_data_prediction)\n",
    "print(\"The Mean Absolute Error for train_data is : \",error1)"
   ]
  },
  {
   "cell_type": "code",
   "execution_count": null,
   "id": "97815c54",
   "metadata": {},
   "outputs": [],
   "source": [
    "# Prediction on the test Data\n",
    "test_data_prediction = model.predict(x_test)\n",
    "print(test_data_prediction)\n",
    "# Finding the Mean Absolute Value Error\n",
    "error = metrics.mean_absolute_error(y_test, test_data_prediction)\n",
    "print(\"The Mean Absolute Error for test_data is : \",error)"
   ]
  },
  {
   "cell_type": "code",
   "execution_count": null,
   "id": "d120a31b",
   "metadata": {},
   "outputs": [],
   "source": [
    "cal_df.head()"
   ]
  },
  {
   "cell_type": "code",
   "execution_count": null,
   "id": "c0aa61d2",
   "metadata": {},
   "outputs": [],
   "source": [
    "#Building the Prediction model\n",
    "#Inputing the Data\n",
    "list=[]\n",
    "gender = input('Gender :')\n",
    "if gender=='male'or gender=='Male':\n",
    "    gender=0\n",
    "else:\n",
    "    gender=1\n",
    "list.append(gender)\n",
    "age = int(input('Age :'))\n",
    "list.append(age)\n",
    "height = float(input('Height :'))\n",
    "list.append(height)\n",
    "weight = float(input('Weight :'))\n",
    "list.append(weight)\n",
    "duration = float(input('Duration :'))\n",
    "list.append(duration)\n",
    "heart_rate = float(input('Heart_Rate :'))\n",
    "list.append(heart_rate)\n",
    "body_temp = float(input('Body_Temperature :'))\n",
    "list.append(body_temp)\n",
    "#print(list)\n",
    "# Changing the list into Numpy_array\n",
    "input_data = np.asarray(list)\n",
    "\n",
    "#reshaping the array\n",
    "input_data = input_data.reshape(1,-1)  # Just Giving only 1 row soo...\n",
    "\n",
    "prediction = model.predict(input_data)\n",
    "print(\"The Calories Burnt Value is : \",prediction[0])\n"
   ]
  },
  {
   "cell_type": "code",
   "execution_count": null,
   "id": "9cb7602b",
   "metadata": {},
   "outputs": [],
   "source": []
  }
 ],
 "metadata": {
  "kernelspec": {
   "display_name": "Python 3 (ipykernel)",
   "language": "python",
   "name": "python3"
  },
  "language_info": {
   "codemirror_mode": {
    "name": "ipython",
    "version": 3
   },
   "file_extension": ".py",
   "mimetype": "text/x-python",
   "name": "python",
   "nbconvert_exporter": "python",
   "pygments_lexer": "ipython3",
   "version": "3.9.13"
  }
 },
 "nbformat": 4,
 "nbformat_minor": 5
}
